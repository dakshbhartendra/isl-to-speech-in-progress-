{
 "cells": [
  {
   "cell_type": "code",
   "execution_count": 1,
   "metadata": {},
   "outputs": [
    {
     "ename": "ModuleNotFoundError",
     "evalue": "No module named 'mediapipe'",
     "output_type": "error",
     "traceback": [
      "\u001b[1;31m---------------------------------------------------------------------------\u001b[0m",
      "\u001b[1;31mModuleNotFoundError\u001b[0m                       Traceback (most recent call last)",
      "\u001b[1;32mc:\\Users\\Sakshi Bhartendra\\Documents\\python\\Sign Language to speech.ipynb Cell 1\u001b[0m in \u001b[0;36m<cell line: 2>\u001b[1;34m()\u001b[0m\n\u001b[0;32m      <a href='vscode-notebook-cell:/c%3A/Users/Sakshi%20Bhartendra/Documents/python/Sign%20Language%20to%20speech.ipynb#ch0000000?line=0'>1</a>\u001b[0m \u001b[39mimport\u001b[39;00m \u001b[39mcv2\u001b[39;00m\n\u001b[1;32m----> <a href='vscode-notebook-cell:/c%3A/Users/Sakshi%20Bhartendra/Documents/python/Sign%20Language%20to%20speech.ipynb#ch0000000?line=1'>2</a>\u001b[0m \u001b[39mimport\u001b[39;00m \u001b[39mmediapipe\u001b[39;00m \u001b[39mas\u001b[39;00m \u001b[39mmp\u001b[39;00m\n",
      "\u001b[1;31mModuleNotFoundError\u001b[0m: No module named 'mediapipe'"
     ]
    }
   ],
   "source": [
    "import cv2\n",
    "import mediapipe as mp"
   ]
  },
  {
   "cell_type": "code",
   "execution_count": 2,
   "metadata": {},
   "outputs": [
    {
     "name": "stdout",
     "output_type": "stream",
     "text": [
      "Collecting mediapipe\n",
      "  Downloading mediapipe-0.8.10.1-cp38-cp38-win_amd64.whl (48.7 MB)\n",
      "Requirement already satisfied: absl-py in c:\\users\\sakshi bhartendra\\anaconda3\\envs\\new\\lib\\site-packages (from mediapipe) (0.15.0)\n",
      "Requirement already satisfied: attrs>=19.1.0 in c:\\users\\sakshi bhartendra\\anaconda3\\envs\\new\\lib\\site-packages (from mediapipe) (21.4.0)\n",
      "Requirement already satisfied: protobuf<4,>=3.11 in c:\\users\\sakshi bhartendra\\anaconda3\\envs\\new\\lib\\site-packages (from mediapipe) (3.20.1)\n",
      "Requirement already satisfied: numpy in c:\\users\\sakshi bhartendra\\anaconda3\\envs\\new\\lib\\site-packages (from mediapipe) (1.19.4)\n",
      "Requirement already satisfied: matplotlib in c:\\users\\sakshi bhartendra\\anaconda3\\envs\\new\\lib\\site-packages (from mediapipe) (3.5.2)\n",
      "Collecting opencv-contrib-python\n",
      "  Downloading opencv_contrib_python-4.6.0.66-cp36-abi3-win_amd64.whl (42.5 MB)\n",
      "Requirement already satisfied: six in c:\\users\\sakshi bhartendra\\anaconda3\\envs\\new\\lib\\site-packages (from absl-py->mediapipe) (1.16.0)\n",
      "Requirement already satisfied: cycler>=0.10 in c:\\users\\sakshi bhartendra\\anaconda3\\envs\\new\\lib\\site-packages (from matplotlib->mediapipe) (0.11.0)\n",
      "Requirement already satisfied: packaging>=20.0 in c:\\users\\sakshi bhartendra\\anaconda3\\envs\\new\\lib\\site-packages (from matplotlib->mediapipe) (21.3)\n",
      "Requirement already satisfied: python-dateutil>=2.7 in c:\\users\\sakshi bhartendra\\anaconda3\\envs\\new\\lib\\site-packages (from matplotlib->mediapipe) (2.8.2)\n",
      "Requirement already satisfied: fonttools>=4.22.0 in c:\\users\\sakshi bhartendra\\anaconda3\\envs\\new\\lib\\site-packages (from matplotlib->mediapipe) (4.33.3)\n",
      "Requirement already satisfied: pillow>=6.2.0 in c:\\users\\sakshi bhartendra\\anaconda3\\envs\\new\\lib\\site-packages (from matplotlib->mediapipe) (9.1.0)\n",
      "Requirement already satisfied: kiwisolver>=1.0.1 in c:\\users\\sakshi bhartendra\\anaconda3\\envs\\new\\lib\\site-packages (from matplotlib->mediapipe) (1.4.2)\n",
      "Requirement already satisfied: pyparsing>=2.2.1 in c:\\users\\sakshi bhartendra\\anaconda3\\envs\\new\\lib\\site-packages (from matplotlib->mediapipe) (3.0.4)\n",
      "Installing collected packages: opencv-contrib-python, mediapipe\n",
      "Successfully installed mediapipe-0.8.10.1 opencv-contrib-python-4.6.0.66\n",
      "Note: you may need to restart the kernel to use updated packages.\n"
     ]
    }
   ],
   "source": [
    "%pip install mediapipe"
   ]
  },
  {
   "cell_type": "code",
   "execution_count": null,
   "metadata": {},
   "outputs": [],
   "source": []
  }
 ],
 "metadata": {
  "kernelspec": {
   "display_name": "Python 3.8.5 ('new')",
   "language": "python",
   "name": "python3"
  },
  "language_info": {
   "codemirror_mode": {
    "name": "ipython",
    "version": 3
   },
   "file_extension": ".py",
   "mimetype": "text/x-python",
   "name": "python",
   "nbconvert_exporter": "python",
   "pygments_lexer": "ipython3",
   "version": "3.8.5"
  },
  "orig_nbformat": 4,
  "vscode": {
   "interpreter": {
    "hash": "58a12c8e371560fc0514277191d9ff1b2c69184a13c8d9c4882d87535dbeeb1b"
   }
  }
 },
 "nbformat": 4,
 "nbformat_minor": 2
}
